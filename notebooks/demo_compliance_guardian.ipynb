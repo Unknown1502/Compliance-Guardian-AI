{
 "cells": [
  {
   "cell_type": "markdown",
   "id": "2275e73e",
   "metadata": {},
   "source": [
    "# Compliance Guardian AI - Interactive Demo\n",
    "\n",
    "This notebook demonstrates the key features of the Compliance Guardian AI system, including:\n",
    "- Multi-agent orchestration\n",
    "- Compliance scanning across frameworks\n",
    "- Risk assessment and scoring\n",
    "- Automated remediation\n",
    "- Report generation\n",
    "\n",
    "**AWS AI Agent Global Hackathon Submission**"
   ]
  },
  {
   "cell_type": "markdown",
   "id": "7fa05665",
   "metadata": {},
   "source": [
    "## 1. Setup and Imports\n",
    "\n",
    "First, let's import the necessary libraries and initialize our system."
   ]
  },
  {
   "cell_type": "code",
   "execution_count": null,
   "id": "3732efb0",
   "metadata": {},
   "outputs": [],
   "source": [
    "import sys\n",
    "import os\n",
    "import asyncio\n",
    "from datetime import datetime, timedelta\n",
    "import json\n",
    "\n",
    "# Add src to path\n",
    "sys.path.insert(0, os.path.abspath('../'))\n",
    "\n",
    "# Import Compliance Guardian modules\n",
    "from src.agents.orchestrator_agent import OrchestratorAgent\n",
    "from src.agents.compliance_agent import ComplianceAgent\n",
    "from src.reasoning.risk_assessor import RiskAssessor\n",
    "from src.reasoning.policy_interpreter import PolicyInterpreter\n",
    "from src.reasoning.decision_maker import DecisionMaker\n",
    "from src.reporting.compliance_dashboard import ComplianceDashboard\n",
    "from src.reporting.executive_summary import ExecutiveSummaryGenerator\n",
    "from src.utils.config import get_config\n",
    "\n",
    "# For visualization\n",
    "import matplotlib.pyplot as plt\n",
    "import pandas as pd\n",
    "import numpy as np\n",
    "\n",
    "# Jupyter display\n",
    "from IPython.display import display, HTML, Markdown\n",
    "\n",
    "print(\"✓ All imports successful!\")\n",
    "print(f\"Python version: {sys.version}\")\n",
    "print(f\"Working directory: {os.getcwd()}\")"
   ]
  },
  {
   "cell_type": "markdown",
   "id": "3f1aacf3",
   "metadata": {},
   "source": [
    "## 2. Initialize Configuration\n",
    "\n",
    "Load the system configuration from environment variables."
   ]
  },
  {
   "cell_type": "code",
   "execution_count": null,
   "id": "f125cc46",
   "metadata": {},
   "outputs": [],
   "source": [
    "# Initialize configuration\n",
    "config = get_config()\n",
    "\n",
    "print(\"Configuration loaded:\")\n",
    "print(f\"  AWS Region: {config.aws_region}\")\n",
    "print(f\"  Bedrock Model: {config.bedrock_model_id}\")\n",
    "print(f\"  Environment: {config.environment}\")\n",
    "print(f\"  Auto-remediation: {config.enable_auto_remediation}\")\n",
    "\n",
    "# Create config dict for agents\n",
    "config_dict = config.dict()"
   ]
  },
  {
   "cell_type": "markdown",
   "id": "d1384c63",
   "metadata": {},
   "source": [
    "## 3. Sample Violation Data\n",
    "\n",
    "Let's create some sample violations for demonstration."
   ]
  },
  {
   "cell_type": "code",
   "execution_count": null,
   "id": "1ee29aef",
   "metadata": {},
   "outputs": [],
   "source": [
    "# Sample violations for demonstration\n",
    "sample_violations = [\n",
    "    {\n",
    "        \"violation_id\": \"VIO-001\",\n",
    "        \"severity\": \"critical\",\n",
    "        \"framework\": \"GDPR\",\n",
    "        \"violation_type\": \"unencrypted_pii\",\n",
    "        \"description\": \"Personal data stored without encryption in production database\",\n",
    "        \"affected_individuals\": 15000,\n",
    "        \"data_types\": [\"pii\", \"phi\"],\n",
    "        \"detected_at\": datetime.utcnow().isoformat(),\n",
    "        \"estimated_cost\": 50000\n",
    "    },\n",
    "    {\n",
    "        \"violation_id\": \"VIO-002\",\n",
    "        \"severity\": \"high\",\n",
    "        \"framework\": \"HIPAA\",\n",
    "        \"violation_type\": \"missing_audit_logs\",\n",
    "        \"description\": \"Audit logging not enabled for PHI access\",\n",
    "        \"affected_individuals\": 5000,\n",
    "        \"data_types\": [\"phi\"],\n",
    "        \"detected_at\": datetime.utcnow().isoformat(),\n",
    "        \"estimated_cost\": 25000\n",
    "    },\n",
    "    {\n",
    "        \"violation_id\": \"VIO-003\",\n",
    "        \"severity\": \"medium\",\n",
    "        \"framework\": \"PCI_DSS\",\n",
    "        \"violation_type\": \"weak_password_policy\",\n",
    "        \"description\": \"Password policy does not meet PCI DSS requirements\",\n",
    "        \"affected_individuals\": 500,\n",
    "        \"data_types\": [\"pci\"],\n",
    "        \"detected_at\": datetime.utcnow().isoformat(),\n",
    "        \"estimated_cost\": 10000\n",
    "    }\n",
    "]\n",
    "\n",
    "print(f\"Created {len(sample_violations)} sample violations\")\n",
    "display(pd.DataFrame(sample_violations)[['violation_id', 'severity', 'framework', 'violation_type']])"
   ]
  }
 ],
 "metadata": {
  "language_info": {
   "name": "python"
  }
 },
 "nbformat": 4,
 "nbformat_minor": 5
}
